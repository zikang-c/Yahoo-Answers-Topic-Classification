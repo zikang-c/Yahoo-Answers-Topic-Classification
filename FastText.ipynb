{
 "cells": [
  {
   "cell_type": "code",
   "execution_count": 1,
   "metadata": {},
   "outputs": [
    {
     "name": "stdout",
     "output_type": "stream",
     "text": [
      "Collecting fasttext\n",
      "  Downloading fasttext-0.9.3.tar.gz (73 kB)\n",
      "\u001b[2K     \u001b[90m━━━━━━━━━━━━━━━━━━━━━━━━━━━━━━━━━━━━━━━━\u001b[0m \u001b[32m73.4/73.4 kB\u001b[0m \u001b[31m2.1 MB/s\u001b[0m eta \u001b[36m0:00:00\u001b[0m\n",
      "\u001b[?25h  Installing build dependencies ... \u001b[?25ldone\n",
      "\u001b[?25h  Getting requirements to build wheel ... \u001b[?25ldone\n",
      "\u001b[?25h  Preparing metadata (pyproject.toml) ... \u001b[?25ldone\n",
      "\u001b[?25hCollecting pybind11>=2.2 (from fasttext)\n",
      "  Using cached pybind11-2.13.6-py3-none-any.whl.metadata (9.5 kB)\n",
      "Requirement already satisfied: setuptools>=0.7.0 in /opt/anaconda3/lib/python3.12/site-packages (from fasttext) (69.5.1)\n",
      "Requirement already satisfied: numpy in /opt/anaconda3/lib/python3.12/site-packages (from fasttext) (1.26.4)\n",
      "Using cached pybind11-2.13.6-py3-none-any.whl (243 kB)\n",
      "Building wheels for collected packages: fasttext\n",
      "  Building wheel for fasttext (pyproject.toml) ... \u001b[?25ldone\n",
      "\u001b[?25h  Created wheel for fasttext: filename=fasttext-0.9.3-cp312-cp312-macosx_15_0_arm64.whl size=288243 sha256=3a2e31e0d048b0720a4add749e50ee542edb9eac86583def716f10a3c6581387\n",
      "  Stored in directory: /Users/vi/Library/Caches/pip/wheels/20/27/95/a7baf1b435f1cbde017cabdf1e9688526d2b0e929255a359c6\n",
      "Successfully built fasttext\n",
      "Installing collected packages: pybind11, fasttext\n",
      "Successfully installed fasttext-0.9.3 pybind11-2.13.6\n",
      "Note: you may need to restart the kernel to use updated packages.\n"
     ]
    }
   ],
   "source": [
    "pip install fasttext"
   ]
  },
  {
   "cell_type": "markdown",
   "metadata": {},
   "source": [
    "### Load Library"
   ]
  },
  {
   "cell_type": "code",
   "execution_count": null,
   "metadata": {},
   "outputs": [],
   "source": [
    "import pandas as pd\n",
    "import fasttext\n",
    "from sklearn.model_selection import train_test_split\n",
    "import io\n",
    "import numpy as np\n",
    "from sklearn.ensemble import RandomForestClassifier\n",
    "from sklearn.metrics import accuracy_score"
   ]
  },
  {
   "cell_type": "markdown",
   "metadata": {},
   "source": [
    "### Using FastText as Classification Baseline"
   ]
  },
  {
   "cell_type": "code",
   "execution_count": null,
   "metadata": {},
   "outputs": [],
   "source": [
    "# Prepare the Data with train-test split\n",
    "train_data, val_data = train_test_split(train, test_size=0.2, random_state=42)\n",
    "\n",
    "# Combine All three contents into one column\n",
    "train_data['text'] = train_data['question_title'] + ' ' + train_data['question_content'] + ' ' + train_data['best_answer']\n",
    "train_data['formatted'] = '__label__' + train_data['topic_name'].astype(str) + ' ' + train_data['text']\n",
    "\n",
    "val_data['text'] = val_data['question_title'] + ' ' + val_data['question_content'] + ' ' + val_data['best_answer']\n",
    "val_data['formatted'] = '__label__' + val_data['topic_name'].astype(str) + ' ' + val_data['text']\n",
    "\n",
    "# Use StringIO to create in-memory files for fastText\n",
    "train_data_io = io.StringIO(\"\\n\".join(train_data['formatted'].tolist()))\n",
    "val_data_io = io.StringIO(\"\\n\".join(val_data['formatted'].tolist()))\n",
    "\n",
    "# Train the fastText model\n",
    "\n",
    "# TODO: Considering tunning parameters\n",
    "\n",
    "model = fasttext.train_supervised(input=train_data_io, epoch=25, lr=1.0, wordNgrams=2)\n",
    "\n",
    "# Evaluate the Model on Validation Data\n",
    "result = model.test(val_data_io)\n",
    "print(f\"Validation Precision: {result[1]}\")\n",
    "print(f\"Validation Recall: {result[2]}\")\n",
    "print(f\"Validation Accuracy: {result[1]}\")\n",
    "\n",
    "# Predict on test dataset\n",
    "\n",
    "# TODO: Preprocessing test dataset into same format\n",
    "# TODO: Other metrics\n",
    "\n",
    "text_sample = \"Sample text for prediction\"\n",
    "label, confidence = model.predict(text_sample)\n",
    "print(f\"Predicted label: {label[0]}, Confidence: {confidence[0]}\")"
   ]
  },
  {
   "cell_type": "markdown",
   "metadata": {},
   "source": [
    "### Using FastText as word embedding"
   ]
  },
  {
   "cell_type": "code",
   "execution_count": null,
   "metadata": {},
   "outputs": [],
   "source": [
    "# Train an Unsupervised fastText Model for Embeddings\n",
    "# Combine all text fields for training embeddings\n",
    "train_data['text'] = train_data['question_title'] + ' ' + train_data['question_content'] + ' ' + train_data['best_answer']\n",
    "train_texts_io = io.StringIO(\"\\n\".join(train_data['text'].tolist()))\n",
    "\n",
    "# Train fastText model for word embeddings (unsupervised)\n",
    "embedding_model = fasttext.train_unsupervised(input=train_texts_io, model='skipgram')\n",
    "\n",
    "#  Generate Sentence Embeddings for Each Sample\n",
    "# Function to get sentence embedding by averaging word vectors\n",
    "def get_sentence_embedding(text, model):\n",
    "    words = text.split()\n",
    "    word_vectors = [model.get_word_vector(word) for word in words if word in model.words]\n",
    "    if len(word_vectors) > 0:\n",
    "        return np.mean(word_vectors, axis=0)\n",
    "    else:\n",
    "        # Zero vector if no words are found\n",
    "        return np.zeros(embedding_model.get_dimension())  \n",
    "\n",
    "# Generate embeddings for training and validation data\n",
    "train_data['embedding'] = train_data['text'].apply(lambda x: get_sentence_embedding(x, embedding_model))\n",
    "val_data['embedding'] = val_data['text'].apply(lambda x: get_sentence_embedding(x, embedding_model))\n",
    "\n",
    "# Prepare Feature Matrices and Labels for ML Models\n",
    "X_train = np.vstack(train_data['embedding'].values)\n",
    "# Integer labels for training\n",
    "y_train = train_data['topic'] \n",
    "\n",
    "X_val = np.vstack(val_data['embedding'].values)\n",
    "# Integer labels for validation\n",
    "y_val = val_data['topic']     \n",
    "\n",
    "# Train models:\n",
    "# TODO: Try more models\n",
    "# E.g. a Random Forest Classifier\n",
    "clf = RandomForestClassifier()\n",
    "clf.fit(X_train, y_train)\n",
    "\n",
    "# Evaluate on Validation Set\n",
    "# TODO: more metrics\n",
    "y_pred = clf.predict(X_val)\n",
    "accuracy = accuracy_score(y_val, y_pred)\n",
    "print(f\"Random Forest Validation Accuracy: {accuracy}\")"
   ]
  }
 ],
 "metadata": {
  "kernelspec": {
   "display_name": "base",
   "language": "python",
   "name": "python3"
  },
  "language_info": {
   "codemirror_mode": {
    "name": "ipython",
    "version": 3
   },
   "file_extension": ".py",
   "mimetype": "text/x-python",
   "name": "python",
   "nbconvert_exporter": "python",
   "pygments_lexer": "ipython3",
   "version": "3.12.4"
  }
 },
 "nbformat": 4,
 "nbformat_minor": 2
}
